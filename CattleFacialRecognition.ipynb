{
  "cells": [
    {
      "cell_type": "markdown",
      "metadata": {
        "id": "view-in-github",
        "colab_type": "text"
      },
      "source": [
        "<a href=\"https://colab.research.google.com/github/erenatikk/CattleFaceRecognition/blob/main/CattleFacialRecognition.ipynb\" target=\"_parent\"><img src=\"https://colab.research.google.com/assets/colab-badge.svg\" alt=\"Open In Colab\"/></a>"
      ]
    },
    {
      "cell_type": "code",
      "execution_count": null,
      "metadata": {
        "colab": {
          "base_uri": "https://localhost:8080/"
        },
        "id": "DuIcn0XRH-1m",
        "outputId": "7b32b91c-de80-4c04-eda5-d45e5a7d281b"
      },
      "outputs": [
        {
          "output_type": "stream",
          "name": "stdout",
          "text": [
            "Mounted at /content/drive\n"
          ]
        }
      ],
      "source": [
        "from google.colab import drive\n",
        "drive.mount('/content/drive')"
      ]
    },
    {
      "cell_type": "code",
      "execution_count": null,
      "metadata": {
        "colab": {
          "base_uri": "https://localhost:8080/"
        },
        "id": "iHXSX-BX-Ea7",
        "outputId": "89113af9-3d1c-4442-bfe9-477299433c1a"
      },
      "outputs": [
        {
          "output_type": "stream",
          "name": "stdout",
          "text": [
            "Dizin içindeki toplam görsel sayısı: 1246\n"
          ]
        }
      ],
      "source": [
        "image_count = len(list(Path(cattleface_path).rglob('*.jpg')))\n",
        "\n",
        "print(f'Dizin içindeki toplam görsel sayısı: {image_count}')"
      ]
    },
    {
      "cell_type": "code",
      "execution_count": null,
      "metadata": {
        "id": "qcUxRA2vBe4l"
      },
      "outputs": [],
      "source": [
        "import os\n",
        "import pandas as pd\n",
        "import numpy as np\n",
        "from keras.preprocessing.image import ImageDataGenerator\n",
        "from keras.applications import ResNet50\n",
        "from keras.models import Sequential\n",
        "from keras.layers import Dense, Flatten\n",
        "from keras.optimizers import Adam\n",
        "from keras.applications.resnet50 import preprocess_input, decode_predictions\n",
        "from keras.preprocessing import image\n",
        "from pathlib import Path"
      ]
    },
    {
      "cell_type": "code",
      "execution_count": null,
      "metadata": {
        "id": "838dPqQ43ymV"
      },
      "outputs": [],
      "source": [
        "csv_path = '/content/drive/MyDrive/CattleFace/_annotations.csv'\n",
        "df = pd.read_csv(csv_path)"
      ]
    },
    {
      "cell_type": "code",
      "execution_count": null,
      "metadata": {
        "id": "4vQt3U_-Bhmt"
      },
      "outputs": [],
      "source": [
        "cattleface_path = '/content/drive/MyDrive/CattleFace/train'"
      ]
    },
    {
      "cell_type": "code",
      "execution_count": null,
      "metadata": {
        "id": "3jvdah9wBwLk"
      },
      "outputs": [],
      "source": [
        "train_datagen = ImageDataGenerator(\n",
        "    rescale=1./255,\n",
        "    shear_range=0.2,\n",
        "    zoom_range=0.2,\n",
        "    horizontal_flip=True,\n",
        "    validation_split=0.2\n",
        ")"
      ]
    },
    {
      "cell_type": "code",
      "execution_count": null,
      "metadata": {
        "colab": {
          "base_uri": "https://localhost:8080/"
        },
        "id": "OTw9JcECB0il",
        "outputId": "b1023548-2f41-43f2-f8e9-2e4f249c4bd7"
      },
      "outputs": [
        {
          "output_type": "stream",
          "name": "stdout",
          "text": [
            "Found 1246 validated image filenames belonging to 54 classes.\n"
          ]
        }
      ],
      "source": [
        "_annotations_path = '/content/drive/MyDrive/CattleFace/_annotations.csv'\n",
        "df = pd.read_csv(_annotations_path)\n",
        "\n",
        "\n",
        "train_generator = train_datagen.flow_from_dataframe(\n",
        "    dataframe=df,\n",
        "    directory=cattleface_path,\n",
        "    x_col=\"filename\",\n",
        "    y_col=\"class\",\n",
        "    target_size=(224, 224),\n",
        "    batch_size=32,\n",
        "    class_mode=\"categorical\"\n",
        ")"
      ]
    },
    {
      "cell_type": "code",
      "execution_count": null,
      "metadata": {
        "colab": {
          "base_uri": "https://localhost:8080/"
        },
        "id": "BNmXwsgnHh0u",
        "outputId": "8fd7901d-c0ac-4231-feda-87b6b6d14296"
      },
      "outputs": [
        {
          "output_type": "stream",
          "name": "stdout",
          "text": [
            "Found 95 validated image filenames belonging to 54 classes.\n"
          ]
        }
      ],
      "source": [
        "# CSV dosyasını oku\n",
        "csv_path = '/content/drive/MyDrive/CattleFace/valid_annotations.csv'\n",
        "df = pd.read_csv(csv_path)\n",
        "\n",
        "# Validation veri setini yükleyin\n",
        "validation_datagen = ImageDataGenerator(rescale=1./255)\n",
        "\n",
        "validation_generator = validation_datagen.flow_from_dataframe(\n",
        "    dataframe=df,\n",
        "    directory='/content/drive/MyDrive/CattleFace/valid',  # Görüntülerin bulunduğu dizin\n",
        "    x_col='filename',\n",
        "    y_col='class',  # Eğer sınıf etiketleri varsa, uygun sütunu seçin\n",
        "    target_size=(224, 224),\n",
        "    batch_size=16,\n",
        "    class_mode='categorical',  # Sınıflandırma için 'binary' ya da 'categorical' kullanın\n",
        "    shuffle=False  # Verilerin karıştırılmasını istemiyoruz\n",
        ")\n"
      ]
    },
    {
      "cell_type": "code",
      "execution_count": null,
      "metadata": {
        "id": "1SgbEynUHqUP",
        "colab": {
          "base_uri": "https://localhost:8080/"
        },
        "outputId": "8db031e1-da96-4c25-e63b-aae969060445"
      },
      "outputs": [
        {
          "output_type": "stream",
          "name": "stdout",
          "text": [
            "Downloading data from https://storage.googleapis.com/tensorflow/keras-applications/resnet/resnet50_weights_tf_dim_ordering_tf_kernels_notop.h5\n",
            "94765736/94765736 [==============================] - 0s 0us/step\n"
          ]
        }
      ],
      "source": [
        "resnet_model = ResNet50(weights='imagenet', include_top=False, input_shape=(224, 224, 3))"
      ]
    },
    {
      "cell_type": "code",
      "execution_count": null,
      "metadata": {
        "colab": {
          "base_uri": "https://localhost:8080/"
        },
        "id": "Nu5TRJ8E7UpS",
        "outputId": "8a010c9f-06e7-4793-96ea-c0770fddbcc0"
      },
      "outputs": [
        {
          "output_type": "stream",
          "name": "stdout",
          "text": [
            "54\n"
          ]
        }
      ],
      "source": [
        "num_classes = df['class'].nunique()\n",
        "print(num_classes)"
      ]
    },
    {
      "cell_type": "code",
      "execution_count": null,
      "metadata": {
        "colab": {
          "base_uri": "https://localhost:8080/"
        },
        "id": "GX1ipBVxH3Gt",
        "outputId": "2058f8af-8443-4c47-b5c2-622cfd61b127"
      },
      "outputs": [
        {
          "output_type": "stream",
          "name": "stderr",
          "text": [
            "WARNING:absl:`lr` is deprecated in Keras optimizer, please use `learning_rate` or use the legacy optimizer, e.g.,tf.keras.optimizers.legacy.Adam.\n"
          ]
        }
      ],
      "source": [
        "from keras.layers import GlobalAveragePooling2D\n",
        "\n",
        "model = Sequential()\n",
        "model.add(resnet_model)\n",
        "model.add(GlobalAveragePooling2D())\n",
        "model.add(Dense(num_classes, activation='softmax'))\n",
        "\n",
        "model.compile(optimizer=Adam(lr=0.0001), loss='categorical_crossentropy', metrics=['accuracy'])\n"
      ]
    },
    {
      "cell_type": "code",
      "execution_count": null,
      "metadata": {
        "colab": {
          "base_uri": "https://localhost:8080/"
        },
        "id": "jKVeJMqgH_oC",
        "outputId": "5688dc50-099e-43fb-e992-892096897a44"
      },
      "outputs": [
        {
          "output_type": "stream",
          "name": "stdout",
          "text": [
            "Epoch 1/6\n",
            "39/39 - 930s - loss: 1.3014 - accuracy: 0.7047 - val_loss: 37.8926 - val_accuracy: 0.0105 - 930s/epoch - 24s/step\n",
            "Epoch 2/6\n",
            "39/39 - 855s - loss: 0.1792 - accuracy: 0.9526 - val_loss: 339.8568 - val_accuracy: 0.0526 - 855s/epoch - 22s/step\n",
            "Epoch 3/6\n",
            "39/39 - 855s - loss: 0.1261 - accuracy: 0.9591 - val_loss: 10.3974 - val_accuracy: 0.0526 - 855s/epoch - 22s/step\n",
            "Epoch 4/6\n",
            "39/39 - 852s - loss: 0.0630 - accuracy: 0.9799 - val_loss: 8.7273 - val_accuracy: 0.0211 - 852s/epoch - 22s/step\n",
            "Epoch 5/6\n",
            "39/39 - 850s - loss: 0.0622 - accuracy: 0.9815 - val_loss: 68.4861 - val_accuracy: 0.0526 - 850s/epoch - 22s/step\n",
            "Epoch 6/6\n",
            "39/39 - 853s - loss: 0.1124 - accuracy: 0.9639 - val_loss: 26.3551 - val_accuracy: 0.0211 - 853s/epoch - 22s/step\n",
            "{'loss': [1.3014408349990845, 0.17920666933059692, 0.12611138820648193, 0.06302857398986816, 0.062151141464710236, 0.11239741742610931], 'accuracy': [0.70465487241745, 0.9526484608650208, 0.959069013595581, 0.9799357652664185, 0.9815409183502197, 0.9638844132423401], 'val_loss': [37.89255142211914, 339.8568115234375, 10.397357940673828, 8.727319717407227, 68.48612213134766, 26.355131149291992], 'val_accuracy': [0.010526316240429878, 0.05263157933950424, 0.05263157933950424, 0.021052632480859756, 0.05263157933950424, 0.021052632480859756]}\n"
          ]
        }
      ],
      "source": [
        "history = model.fit(\n",
        "    train_generator,\n",
        "    # steps_per_epoch=train_generator.samples // 32,\n",
        "    epochs=6,\n",
        "    validation_data=validation_generator,\n",
        "    verbose = 2\n",
        "    # validation_steps=validation_generator.samples // 32\n",
        ")\n",
        "print(history.history)"
      ]
    },
    {
      "cell_type": "code",
      "execution_count": null,
      "metadata": {
        "id": "7EyPTBHPpZVX"
      },
      "outputs": [],
      "source": [
        "model.save_weights('/content/drive/MyDrive/CattleFace/model_weights_v3.h5')"
      ]
    },
    {
      "cell_type": "code",
      "execution_count": null,
      "metadata": {
        "id": "axxxkM1PplzG"
      },
      "outputs": [],
      "source": [
        "# model.load_weights('/content/drive/MyDrive/CattleFace/model_weights.h5')"
      ]
    },
    {
      "cell_type": "code",
      "execution_count": null,
      "metadata": {
        "id": "oYrNSUBtpf__"
      },
      "outputs": [],
      "source": [
        "model_json = model.to_json()\n",
        "with open('/content/drive/MyDrive/CattleFace/model_config.json', 'w') as json_file:\n",
        "    json_file.write(model_json)"
      ]
    },
    {
      "cell_type": "code",
      "execution_count": null,
      "metadata": {
        "id": "iRiNY6P5wWnQ"
      },
      "outputs": [],
      "source": [
        "# Modelin performansını validation veri seti üzerinde değerlendirme\n",
        "model.evaluate(validation_generator)"
      ]
    },
    {
      "cell_type": "code",
      "execution_count": null,
      "metadata": {
        "id": "b9MHiyLsptpI"
      },
      "outputs": [],
      "source": [
        "# history = model.fit(\n",
        "#     train_generator,\n",
        "#     steps_per_epoch=train_generator.samples // 32,\n",
        "#     epochs=1  # Örneğin, 5 epoch daha ekleyebilirsiniz\n",
        "# )\n"
      ]
    },
    {
      "cell_type": "code",
      "execution_count": null,
      "metadata": {
        "colab": {
          "base_uri": "https://localhost:8080/",
          "height": 449
        },
        "id": "ad9kcGKCIPFL",
        "outputId": "1130ce7a-c9b1-44da-9fb0-f4e0901153d3"
      },
      "outputs": [
        {
          "output_type": "display_data",
          "data": {
            "text/plain": [
              "<Figure size 640x480 with 1 Axes>"
            ],
            "image/png": "[encoded data removed]"
          },
          "metadata": {}
        }
      ],
      "source": [
        "import matplotlib.pyplot as plt\n",
        "\n",
        "plt.plot(history.history['accuracy'], label='Training Accuracy')\n",
        "plt.plot(history.history['val_accuracy'], label='Validation Accuracy')\n",
        "plt.xlabel('Epochs')\n",
        "plt.ylabel('Accuracy')\n",
        "plt.legend()\n",
        "plt.show()"
      ]
    },
    {
      "cell_type": "code",
      "execution_count": null,
      "metadata": {
        "colab": {
          "base_uri": "https://localhost:8080/"
        },
        "id": "AGdX0lftZ273",
        "outputId": "9189c41b-83ea-4694-c342-3622adf9575d"
      },
      "outputs": [
        {
          "output_type": "stream",
          "name": "stdout",
          "text": [
            "1/1 [==============================] - 3s 3s/step\n",
            "Tahmin Edilen Sınıf Etiketi: 5214, Güven: 1.0\n"
          ]
        }
      ],
      "source": [
        "user_image_path = '/content/drive/MyDrive/CattleFace/test_image/5326-test3.jpg'\n",
        "img = image.load_img(user_image_path, target_size=(224, 224))\n",
        "img_array = image.img_to_array(img)\n",
        "img_array = np.expand_dims(img_array, axis=0)\n",
        "img_array = preprocess_input(img_array)\n",
        "\n",
        "predictions = model.predict(img_array)\n",
        "\n",
        "# Tahminlerden en yüksek olasılığa sahip sınıfın indexi\n",
        "predicted_class_index = np.argmax(predictions[0])\n",
        "\n",
        "# Eğitim veri kümesindeki sınıfların etiketlerini içeren sözlük\n",
        "class_labels = train_generator.class_indices\n",
        "\n",
        "# İndise karşılık gelen sınıf etiketi\n",
        "predicted_class_label = [key for key, value in class_labels.items() if value == predicted_class_index][0]\n",
        "\n",
        "print(f'Tahmin Edilen Sınıf Etiketi: {predicted_class_label}, Güven: {np.max(predictions)}')\n"
      ]
    }
  ],
  "metadata": {
    "colab": {
      "provenance": [],
      "include_colab_link": true
    },
    "kernelspec": {
      "display_name": "Python 3",
      "name": "python3"
    },
    "language_info": {
      "name": "python"
    }
  },
  "nbformat": 4,
  "nbformat_minor": 0
}